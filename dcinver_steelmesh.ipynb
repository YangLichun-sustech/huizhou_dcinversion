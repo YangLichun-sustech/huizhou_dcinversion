{
 "metadata": {
  "language_info": {
   "codemirror_mode": {
    "name": "ipython",
    "version": 3
   },
   "file_extension": ".py",
   "mimetype": "text/x-python",
   "name": "python",
   "nbconvert_exporter": "python",
   "pygments_lexer": "ipython3",
   "version": "3.8.3-final"
  },
  "orig_nbformat": 2,
  "kernelspec": {
   "name": "Python 3.8.3 64-bit ('t20-tue-simpeg': conda)",
   "display_name": "Python 3.8.3 64-bit ('t20-tue-simpeg': conda)",
   "metadata": {
    "interpreter": {
     "hash": "0d97a9e36b88a3b23c6e98ac16bffc3dedea0d85a8c10196049e6270acb41d6e"
    }
   }
  }
 },
 "nbformat": 4,
 "nbformat_minor": 2,
 "cells": [
  {
   "cell_type": "code",
   "execution_count": 1,
   "metadata": {},
   "outputs": [],
   "source": [
    "# core python \n",
    "import numpy as np\n",
    "import matplotlib.pyplot as plt\n",
    "from matplotlib.colors import LogNorm\n",
    "import ipywidgets\n",
    "import os\n",
    "import xlrd\n",
    "# tools in the simPEG Ecosystem \n",
    "import discretize  # for creating computational meshes\n",
    "\n",
    "# linear solvers\n",
    "try: \n",
    "    from pymatsolver import Pardiso as Solver  # this is a fast linear solver \n",
    "except ImportError:\n",
    "    from SimPEG import SolverLU as Solver  # this will be slower\n",
    "\n",
    "# SimPEG inversion machinery\n",
    "from SimPEG import (\n",
    "    Data, maps,\n",
    "    data_misfit, regularization, optimization, inverse_problem, \n",
    "    inversion, directives\n",
    ") \n",
    "\n",
    "# DC resistivity\n",
    "from SimPEG.electromagnetics import resistivity as dc\n",
    "\n",
    "# set the font size in the plots\n",
    "from matplotlib import rcParams\n",
    "rcParams[\"font.size\"] = 14"
   ]
  },
  {
   "cell_type": "code",
   "execution_count": 2,
   "metadata": {},
   "outputs": [],
   "source": [
    "spacing = [0,1.1,2.1,3.1,3.1,3.1,4.16,5.1,5.8,5.8,6.1,7.1,8.1,8.7,8.7,9.17,10.1,11.07,12.07,11.8,11.8,13.08,14.1,14.1,14.1,15.1,16.1,17.1,18.1,19.1,20.1,21.1,22.1,23.1,24.1,25.1,26.1,27.1,28.1,29.1,29.2,29.2,30.1,31.1,31.5,31.5,32.1,33.1,34.1,35.1,36.1,37.1,38.1,39.1,40.1,41.1,41.7,41.7,42.1,43.1,44.1,45.1,46.1,46.4,46.4,47.1,48.1,49,50,51,51.4,51.4,51.9,53,54.4]\n",
    "\n",
    "excel_path = \"D:\\\\惠州捷普绿点\\\\二维反演结果\\\\AM装置\\\\厂房内 line -- 1\\\\amline1无井中电极.xlsx\"\n",
    "excel = xlrd.open_workbook(excel_path,encoding_override=\"utf-8\")\n",
    "table = excel.sheets()[0]\n",
    "\n",
    "col_a = table.col_values(0)\n",
    "a_locations = np.zeros(len(col_a))\n",
    "for i in range(0,len(col_a)):\n",
    "    a_locations[i] = spacing[int(col_a[i]-1)]\n",
    "\n",
    "col_b = table.col_values(1)\n",
    "b_locations = np.zeros(len(col_b))\n",
    "for i in range(0,len(col_b)):\n",
    "    b_locations[i] = -120\n",
    "\n",
    "col_m = table.col_values(2)\n",
    "m_locations = []\n",
    "for i in range(0,len(col_m)):\n",
    "    m_locations.append(spacing[int(col_m[i]-1)])\n",
    "\n",
    "col_n = table.col_values(3)\n",
    "n_locations = []\n",
    "for i in range(0,len(col_n)):\n",
    "    n_locations.append(120)\n",
    "\n",
    "col_obs = table.col_values(4)\n",
    "observed_data = []\n",
    "for i in range(0,len(col_obs)):\n",
    "    observed_data.append(col_obs[i])\n",
    "\n",
    "standard_deviations = []\n",
    "for i in range(0,len(col_obs)):\n",
    "    standard_deviations.append(0.05*observed_data[i] + 1e-3)\n",
    "\n",
    "n_sources = len(col_obs)\n",
    "\n",
    "dc_data_dict = {\n",
    "        \"a_locations\": a_locations,\n",
    "        \"b_locations\": b_locations, \n",
    "        \"m_locations\": m_locations,\n",
    "        \"n_locations\": n_locations,\n",
    "        \"observed_data\": observed_data, \n",
    "        \"standard_deviations\": standard_deviations,\n",
    "        \"n_sources\": n_sources, \n",
    "}"
   ]
  },
  {
   "cell_type": "code",
   "execution_count": 3,
   "metadata": {},
   "outputs": [],
   "source": [
    "underwell_list = [5,9,14,20,24,41,45,57,64,71]\n",
    "underwell_depth = [-6.1,-5.1,-5.2,-5.7,-5.89,-5.8,-6,-6,-6]\n",
    "\n",
    "inwell_list = [6,10,15,21,25,42,46,58,65,72]\n",
    "inwell_depth = [-4.1,-4.1,-4.2,-3.7,-3.89,-3.8,-4,-4,-4,-4]\n",
    "\n",
    "a_locations_z = np.zeros(len(a_locations))\n",
    "for i in range(dc_data_dict[\"n_sources\"]):\n",
    "    if (col_a[i] in underwell_list):\n",
    "        a_locations_z[i] = underwell_depth[underwell_list == col_a[i]]\n",
    "    elif (col_a[i] in inwell_list):\n",
    "        a_locations_z[i] = inwell_depth[inwell_list == col_a[i]]\n",
    "    else:\n",
    "        a_locations_z[i] = -0.6\n",
    "\n",
    "m_locations_z = np.zeros(len(m_locations))\n",
    "for i in range(dc_data_dict[\"n_sources\"]):\n",
    "    if (col_m[i] in underwell_list):\n",
    "        m_locations_z[i] = underwell_depth[underwell_list == col_m[i]]\n",
    "    elif (col_a[i] in inwell_list):\n",
    "        m_locations_z[i] = inwell_depth[inwell_list == col_m[i]]\n",
    "    else:\n",
    "        m_locations_z[i] = -0.6"
   ]
  },
  {
   "cell_type": "code",
   "execution_count": 4,
   "metadata": {},
   "outputs": [],
   "source": [
    "# initialize an empty list for each \n",
    "source_list = []\n",
    "\n",
    "for i in range(dc_data_dict[\"n_sources\"]):\n",
    "    # receiver electrode locations in 2D \n",
    "    m_locs = np.vstack([\n",
    "        dc_data_dict[\"m_locations\"][i], \n",
    "        m_locations_z[i]\n",
    "    ]).T\n",
    "    n_locs = np.vstack([\n",
    "        dc_data_dict[\"n_locations\"][i],\n",
    "        np.dot(-0.6, np.ones_like(dc_data_dict[\"n_locations\"][i]))\n",
    "    ]).T\n",
    "    \n",
    "    # construct the receiver object \n",
    "    receivers = dc.receivers.Dipole(locations_m = m_locs, locations_n = n_locs)\n",
    "    \n",
    "    # construct the source \n",
    "    source = dc.sources.Dipole(\n",
    "        location_a=np.r_[dc_data_dict[\"a_locations\"][i], a_locations_z[i]],\n",
    "        location_b=np.r_[dc_data_dict[\"b_locations\"][i], -0.6],\n",
    "        receiver_list=[receivers]\n",
    "    )\n",
    "\n",
    "    # append the new source to the source list\n",
    "    source_list.append(source)"
   ]
  },
  {
   "cell_type": "code",
   "execution_count": 5,
   "metadata": {},
   "outputs": [],
   "source": [
    "survey = dc.Survey(source_list=source_list)\n",
    "\n",
    "dc_data = Data(\n",
    "    survey=survey, \n",
    "    dobs=np.hstack(dc_data_dict[\"observed_data\"]),\n",
    "    standard_deviation=np.hstack(dc_data_dict[\"standard_deviations\"])\n",
    ")"
   ]
  },
  {
   "cell_type": "code",
   "execution_count": 6,
   "metadata": {},
   "outputs": [],
   "source": [
    "dx = 0.5\n",
    "dz = 0.2\n",
    "n_core_x = 440\n",
    "n_core_z = 70\n",
    "n_pad_x = 23\n",
    "n_pad_z = 25\n",
    "padding_factor_x = 1.3\n",
    "padding_factor_z = 1.3\n",
    "core_domain_x = np.array([-120,100])"
   ]
  },
  {
   "cell_type": "code",
   "execution_count": 7,
   "metadata": {},
   "outputs": [
    {
     "output_type": "execute_result",
     "data": {
      "text/plain": [
       "\n",
       "  TensorMesh: 46,170 cells\n",
       "\n",
       "                      MESH EXTENT             CELL WIDTH      FACTOR\n",
       "  dir    nC        min           max         min       max      max\n",
       "  ---   ---  ---------------------------  ------------------  ------\n",
       "   x    486     -1,022.50      1,002.50      0.50    208.77    1.30\n",
       "   y     95       -624.69          0.00      0.20    141.13    1.30\n"
      ],
      "text/html": "<table>\n  <tr>\n    <td style='font-weight: bold; font-size: 1.2em; text-align: center;' colspan='3'>TensorMesh</td>\n    <td style='font-size: 1.2em; text-align: center;'colspan='4'>46,170 cells</td>\n  </tr>\n  <tr>\n    <th></th>\n    <th></th>\n    <th colspan='2' style='padding: 5px 20px 5px 20px;'>MESH EXTENT</th>\n    <th colspan='2' style='padding: 5px 20px 5px 20px;'>CELL WIDTH</th>\n    <th style='padding: 5px 20px 5px 20px;'>FACTOR</th>\n  </tr>\n  <tr>\n    <th style='padding: 5px 20px 5px 20px;'>dir</th>\n    <th style='padding: 5px 20px 5px 20px;'>nC</th>\n    <th style='padding: 5px 20px 5px 20px;'>min</th>\n    <th style='padding: 5px 20px 5px 20px;'>max</th>\n    <th style='padding: 5px 20px 5px 20px;'>min</th>\n    <th style='padding: 5px 20px 5px 20px;'>max</th>\n    <th style='padding: 5px 20px 5px 20px;'>max</th>\n  </tr>\n  <tr>\n    <td style='padding: 5px 20px 5px 20px;'>x</td>\n    <td style='padding: 5px 20px 5px 20px;'>486</td>\n    <td style='padding: 5px 20px 5px 20px;'>-1,022.50</td>\n    <td style='padding: 5px 20px 5px 20px;'>1,002.50</td>\n    <td style='padding: 5px 20px 5px 20px;'>0.50</td>\n    <td style='padding: 5px 20px 5px 20px;'>208.77</td>\n    <td style='padding: 5px 20px 5px 20px;'>1.30</td>\n  </tr>\n  <tr>\n    <td style='padding: 5px 20px 5px 20px;'>y</td>\n    <td style='padding: 5px 20px 5px 20px;'>95</td>\n    <td style='padding: 5px 20px 5px 20px;'>-624.69</td>\n    <td style='padding: 5px 20px 5px 20px;'>0.00</td>\n    <td style='padding: 5px 20px 5px 20px;'>0.20</td>\n    <td style='padding: 5px 20px 5px 20px;'>141.13</td>\n    <td style='padding: 5px 20px 5px 20px;'>1.30</td>\n  </tr>\n</table>\n"
     },
     "metadata": {},
     "execution_count": 7
    }
   ],
   "source": [
    "hx = [(dx, n_pad_x, -padding_factor_x), (dx, n_core_x), (dx, n_pad_x, padding_factor_x)]\n",
    "hz = [(dz, n_pad_z, -padding_factor_z), (dz, n_core_z)]\n",
    "mesh = discretize.TensorMesh([hx, hz])\n",
    "# origin of the mesh\n",
    "mesh.x0 = np.r_[\n",
    "    -mesh.hx[:n_pad_x].sum() + core_domain_x.min(),\n",
    "    -mesh.hy.sum()\n",
    "]\n",
    "mesh"
   ]
  },
  {
   "cell_type": "code",
   "execution_count": 8,
   "metadata": {},
   "outputs": [],
   "source": [
    "# define the resistivities\n",
    "rho_background = 150\n",
    "rho_resistive_block = 450\n",
    "rho_conductive_block = 3e-4\n",
    "\n",
    "# define the geometry of each block\n",
    "xlim_resistive_block = np.r_[-90 , 60]\n",
    "zlim_resistive_block = np.r_[-0.4, -0.2]\n",
    "\n",
    "xlim_conductive_block = np.r_[-90 , 60]\n",
    "zlim_conductive_block = np.r_[-0.2, 0]"
   ]
  },
  {
   "cell_type": "code",
   "execution_count": 9,
   "metadata": {},
   "outputs": [],
   "source": [
    "rho = rho_background * np.ones(mesh.nC)\n",
    "\n",
    "# resistive block\n",
    "inds_resistive_block = (\n",
    "    (mesh.gridCC[:, 0] >= xlim_resistive_block.min()) & (mesh.gridCC[:, 0] <= xlim_resistive_block.max()) &\n",
    "    (mesh.gridCC[:, 1] >= zlim_resistive_block.min()) & (mesh.gridCC[:, 1] <= zlim_resistive_block.max())\n",
    ")\n",
    "\n",
    "rho[inds_resistive_block] = rho_resistive_block\n",
    "\n",
    "# conductive block\n",
    "inds_conductive_block = (\n",
    "    (mesh.gridCC[:, 0] >= xlim_conductive_block.min()) & (mesh.gridCC[:, 0] <= xlim_conductive_block.max()) &\n",
    "    (mesh.gridCC[:, 1] >= zlim_conductive_block.min()) & (mesh.gridCC[:, 1] <= zlim_conductive_block.max())\n",
    ")\n",
    "\n",
    "rho[inds_conductive_block] = rho_conductive_block"
   ]
  },
  {
   "cell_type": "code",
   "execution_count": 10,
   "metadata": {},
   "outputs": [],
   "source": [
    "ind_active = ((mesh.gridCC[:, 1] > -0.2) & (mesh.gridCC[:, 0] >= -90) & (mesh.gridCC[:, 0] <= 60))\n",
    "nC = int(ind_active.sum())"
   ]
  },
  {
   "cell_type": "code",
   "execution_count": 11,
   "metadata": {},
   "outputs": [],
   "source": [
    "active_map = maps.InjectActiveCells(mesh, ind_active, rho[ind_active==False])\n",
    "rho_map = active_map * maps.ExpMap()\n",
    "starting_model = rho_conductive_block * np.ones(nC)"
   ]
  },
  {
   "cell_type": "code",
   "execution_count": 12,
   "metadata": {},
   "outputs": [],
   "source": [
    "# Generate 2.5D DC problem\n",
    "simulation_dc = dc.Simulation2DNodal(\n",
    "    mesh, rhoMap=rho_map, solver=Solver, survey=survey, storeJ=True\n",
    ")"
   ]
  },
  {
   "cell_type": "code",
   "execution_count": 13,
   "metadata": {},
   "outputs": [],
   "source": [
    "def create_inverse_problem( relative_error, noise_floor, alpha_s,  alpha_x, alpha_z, mref, maxIter, maxIterCG,\n",
    "):\n",
    "    # set the uncertainties and define the data misfit\n",
    "    dc_data.relative_error = relative_error\n",
    "    dc_data.noise_floor = noise_floor\n",
    "    dmisfit = data_misfit.L2DataMisfit(data=dc_data, simulation=simulation_dc)\n",
    "    \n",
    "    # regularization\n",
    "    reg = regularization.Tikhonov(\n",
    "    mesh, alpha_s=alpha_s, alpha_x=alpha_x,  alpha_y=alpha_z, ) \n",
    "    reg.mrefInSmooth = False\n",
    "    reg.mref=mref*np.ones(nC)\n",
    "    reg.indActive = ind_active\n",
    "    # optimization \n",
    "    opt = optimization.InexactGaussNewton(maxIter=maxIter, maxIterCG=maxIterCG)\n",
    "    opt.remember(\"xc\")\n",
    "    \n",
    "    # return the inverse problem \n",
    "    return inverse_problem.BaseInvProblem(dmisfit, reg, opt)"
   ]
  },
  {
   "cell_type": "code",
   "execution_count": 14,
   "metadata": {},
   "outputs": [],
   "source": [
    "class SaveInversionProgress(directives.InversionDirective):\n",
    "    \n",
    "    def initialize(self):\n",
    "        # initialize an empty dictionary for storing results \n",
    "        self.inversion_results = {\n",
    "            \"iteration\":[],\n",
    "            \"beta\":[],\n",
    "            \"phi_d\":[],\n",
    "            \"phi_m\":[],\n",
    "            \"phi_m_small\":[],\n",
    "            \"phi_m_smooth_x\":[],\n",
    "            \"phi_m_smooth_z\":[],\n",
    "            \"dpred\":[],\n",
    "            \"model\":[]\n",
    "        }\n",
    "\n",
    "    def endIter(self):\n",
    "        # Save the data\n",
    "        self.inversion_results[\"iteration\"].append(self.opt.iter)\n",
    "        self.inversion_results[\"beta\"].append(self.invProb.beta)\n",
    "        self.inversion_results[\"phi_d\"].append(self.invProb.phi_d)\n",
    "        self.inversion_results[\"phi_m\"].append(self.invProb.phi_m)\n",
    "        self.inversion_results[\"dpred\"].append(self.invProb.dpred)\n",
    "        self.inversion_results[\"model\"].append(self.invProb.model)\n",
    "        \n",
    "        # grab the components of the regularization and evaluate them here\n",
    "        # the regularization has a list of objective functions  \n",
    "        # objfcts = [smallness, smoothness_x, smoothness_z]\n",
    "        # and the multipliers contain the alpha values\n",
    "        # multipliers = [alpha_s, alpha_x, alpha_z]\n",
    "        reg = self.reg.objfcts[0] \n",
    "        phi_s = reg.objfcts[0](self.invProb.model) * reg.multipliers[0]\n",
    "        phi_x = reg.objfcts[1](self.invProb.model) * reg.multipliers[1]\n",
    "        phi_z = reg.objfcts[2](self.invProb.model) * reg.multipliers[2]\n",
    "        \n",
    "        self.inversion_results[\"phi_m_small\"].append(phi_s)\n",
    "        self.inversion_results[\"phi_m_smooth_x\"].append(phi_x)\n",
    "        self.inversion_results[\"phi_m_smooth_z\"].append(phi_z)"
   ]
  },
  {
   "cell_type": "code",
   "execution_count": 15,
   "metadata": {},
   "outputs": [],
   "source": [
    "def create_inversion( inv_prob, beta0_ratio, cool_beta, beta_cooling_factor, beta_cooling_rate, use_target, chi_factor,):\n",
    "    \n",
    "    # set up our directives\n",
    "    beta_est = directives.BetaEstimate_ByEig(beta0_ratio=beta0_ratio)\n",
    "    target = directives.TargetMisfit(chifact=chi_factor)\n",
    "    save = SaveInversionProgress()\n",
    "    \n",
    "    directives_list = [beta_est, save]\n",
    "    \n",
    "    if use_target is True:\n",
    "        directives_list.append(target)\n",
    "    \n",
    "    if cool_beta is True:\n",
    "        beta_schedule = directives.BetaSchedule(coolingFactor=beta_cooling_factor, coolingRate=beta_cooling_rate)\n",
    "        directives_list.append(beta_schedule)\n",
    "\n",
    "    return inversion.BaseInversion(inv_prob, directiveList=directives_list), target, save"
   ]
  },
  {
   "cell_type": "code",
   "execution_count": 16,
   "metadata": {},
   "outputs": [],
   "source": [
    "inv_prob = create_inverse_problem(\n",
    "    relative_error=0.05, noise_floor=1e-3,\n",
    "    alpha_s=1e-7,  alpha_x=10, alpha_z=1, mref=np.log(rho_background), \n",
    "    maxIter=20, maxIterCG=30,\n",
    ")\n",
    "\n",
    "inv, target_misfit, inversion_log = create_inversion(\n",
    "    inv_prob, beta0_ratio=1e2, cool_beta=True,\n",
    "    beta_cooling_factor=2, beta_cooling_rate=1,\n",
    "    use_target=False, chi_factor=1 \n",
    ")\n",
    "\n",
    "phi_d_star = survey.nD / 2\n",
    "target = target_misfit.chifact * phi_d_star"
   ]
  },
  {
   "cell_type": "code",
   "execution_count": null,
   "metadata": {},
   "outputs": [],
   "source": [
    "model_recovered = inv.run(starting_model)\n",
    "inversion_results = inversion_log.inversion_results"
   ]
  },
  {
   "cell_type": "code",
   "execution_count": null,
   "metadata": {},
   "outputs": [],
   "source": [
    "fig, ax = plt.subplots(1, 1, figsize=(24,4))\n",
    "rho_pre = (rho_map*model_recovered)\n",
    "clim = (1e-2, 1e4)\n",
    "out = mesh.plotImage(\n",
    "    rho_pre, pcolorOpts={'norm':LogNorm(), 'cmap':'Spectral'}, ax=ax,\n",
    "    clim = clim \n",
    ")\n",
    "cb = plt.colorbar(out[0], fraction=0.05, orientation='horizontal', ax=ax, pad=0.2)\n",
    "cb.set_label(\"Resistivity ($\\Omega$m)\")\n",
    "ax.set_title(\"Inversion result\")\n",
    "ax.set_xlim(-100,260) \n",
    "ax.set_ylim(-10,0)"
   ]
  },
  {
   "cell_type": "code",
   "execution_count": null,
   "metadata": {},
   "outputs": [],
   "source": [
    "fig, ax = plt.subplots(1, 1, figsize=(12, 8))\n",
    "x = np.arange(0, len(observed_data))\n",
    "plt.plot(x,np.log10(dc_data.dobs),marker='o',label=\"dobs\")\n",
    "plt.plot(x,np.log10(inv_prob.dpred),marker=\"*\",label=\"dpre\")\n",
    "plt.legend()\n",
    "plt.ylabel(\"V\")\n",
    "plt.xlabel(\"data\")"
   ]
  },
  {
   "cell_type": "code",
   "execution_count": null,
   "metadata": {},
   "outputs": [],
   "source": [
    "rho_steel_mesh = rho_pre[ ind_active]\n",
    "np.savetxt('C:\\\\Users\\DELL\\\\Desktop\\\\rho_steelmesh.txt', rho_steel_mesh)"
   ]
  }
 ]
}